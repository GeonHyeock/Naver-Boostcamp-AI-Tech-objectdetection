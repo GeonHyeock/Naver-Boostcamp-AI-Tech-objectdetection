{
 "cells": [
  {
   "cell_type": "code",
   "execution_count": 1,
   "metadata": {},
   "outputs": [],
   "source": [
    "import random\n",
    "import json"
   ]
  },
  {
   "cell_type": "code",
   "execution_count": 4,
   "metadata": {},
   "outputs": [],
   "source": [
    "# random split\n",
    "def split_dataset(input_json, val_ratio, random_seed):\n",
    "    random.seed(random_seed)\n",
    "\n",
    "    with open(input_json) as f:\n",
    "        data = json.load(f)\n",
    "\n",
    "    images = data['images']\n",
    "    annotations = data['annotations']\n",
    "\n",
    "    image_ids = [x.get('id') for x in images]\n",
    "    image_ids.sort()\n",
    "    random.shuffle(image_ids)\n",
    "\n",
    "    num_val = int(len(image_ids) * val_ratio)\n",
    "    num_train = len(image_ids) - num_val\n",
    "\n",
    "    image_ids_val, image_ids_train = set(image_ids[:num_val]), set(image_ids[num_val:])\n",
    "\n",
    "    train_images = [x for x in images if x.get('id') in image_ids_train]\n",
    "    val_images = [x for x in images if x.get('id') in image_ids_val]\n",
    "\n",
    "    train_annos = [x for x in annotations if x.get('image_id') in image_ids_train]\n",
    "    val_annos = [x for x in annotations if x.get('image_id') in image_ids_val]\n",
    "\n",
    "    train_data = {\n",
    "        'info':data['info'],\n",
    "        'licenses':data['licenses'],\n",
    "        'images':train_images,\n",
    "        'categories':data['categories'],\n",
    "        'annotations':train_annos\n",
    "    }\n",
    "    val_data = {\n",
    "        'info':data['info'],\n",
    "        'licenses':data['licenses'],\n",
    "        'images':val_images,\n",
    "        'categories':data['categories'],\n",
    "        'annotations':val_annos\n",
    "    }\n",
    "\n",
    "    output_train_json = f'dataset/train_randomsplit_{random_seed}.json'\n",
    "    output_val_json = f'dataset/val_randomsplit_{random_seed}.json'\n",
    "\n",
    "    print(f'write {output_train_json}')\n",
    "    with open(output_train_json, 'w') as train_writer:\n",
    "        json.dump(train_data, train_writer)\n",
    "\n",
    "    print(f'write {output_val_json}')\n",
    "    with open(output_val_json, 'w') as val_writer:\n",
    "        json.dump(val_data, val_writer)\n"
   ]
  },
  {
   "cell_type": "code",
   "execution_count": 6,
   "metadata": {},
   "outputs": [
    {
     "name": "stdout",
     "output_type": "stream",
     "text": [
      "write dataset/train_randomsplit_2022.json\n",
      "write dataset/val_randomsplit_2022.json\n"
     ]
    }
   ],
   "source": [
    "split_dataset('dataset/train.json', val_ratio=0.2, random_seed=2022)"
   ]
  },
  {
   "cell_type": "code",
   "execution_count": null,
   "metadata": {},
   "outputs": [],
   "source": []
  }
 ],
 "metadata": {
  "kernelspec": {
   "display_name": "Python 3.7.15 ('detection')",
   "language": "python",
   "name": "python3"
  },
  "language_info": {
   "codemirror_mode": {
    "name": "ipython",
    "version": 3
   },
   "file_extension": ".py",
   "mimetype": "text/x-python",
   "name": "python",
   "nbconvert_exporter": "python",
   "pygments_lexer": "ipython3",
   "version": "3.7.15"
  },
  "orig_nbformat": 4,
  "vscode": {
   "interpreter": {
    "hash": "b94c6de4bce9a87a354a5fa9998691adc0532adddb9d4140f5ba941d00b01fae"
   }
  }
 },
 "nbformat": 4,
 "nbformat_minor": 2
}
